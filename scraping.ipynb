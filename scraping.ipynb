{
 "cells": [
  {
   "cell_type": "markdown",
   "metadata": {},
   "source": [
    "<h1 align='Center'>Segmenting and Clustering Neighborhoods in the city of Toronto Canada</h1>\n"
   ]
  },
  {
   "cell_type": "markdown",
   "metadata": {},
   "source": [
    "### Scraping Postal Codes from Wikipidea"
   ]
  },
  {
   "cell_type": "code",
   "execution_count": 1,
   "metadata": {},
   "outputs": [],
   "source": [
    "#loading all the necessary libraries\n",
    "from bs4 import BeautifulSoup\n",
    "import requests\n",
    "import urllib # for working with URLs\n",
    "import pandas as pd"
   ]
  },
  {
   "cell_type": "code",
   "execution_count": 2,
   "metadata": {},
   "outputs": [],
   "source": [
    "# getting the html content of the wikipedia content\n",
    "source =urllib.request.urlopen('https://en.wikipedia.org/wiki/List_of_postal_codes_of_Canada:_M').read()\n",
    "soup = BeautifulSoup(source, 'lxml')\n",
    "div_table = soup.find('div', class_='mw-parser-output')\n",
    "# getting the from the html script\n",
    "table = div_table.find('table', class_='wikitable sortable')\n",
    "# getting of the rows of the table\n",
    "ligne = table.find_all('tr')"
   ]
  },
  {
   "cell_type": "markdown",
   "metadata": {},
   "source": [
    "<h4> This function generate a dataframe of postal code </h4>\n",
    "<h7> The dataframe will consist of three columns: PostalCode, Borough, and Neighborhood</h7>\n",
    "<h7> Only process the cells that have an assigned borough. Ignore cells with a borough that is Not assigned.</h7>\n",
    "<h7> More than one neighborhood can exist in one postal code area. For example, in the table on the Wikipedia page, you will notice that M5A is listed twice and has two neighborhoods: Harbourfront and Regent Park. These two rows will be combined into one row with the neighborhoods separated with a comma as shown in row 11 in the above table.</h7>\n",
    "<h7> If a cell has a borough but a Not assigned neighborhood, then the neighborhood will be the same as the borough. So for the 9th cell in the table on the Wikipedia page, the value of the Borough and the Neighborhood columns will be Queen's Park.</h7>"
   ]
  },
  {
   "cell_type": "code",
   "execution_count": 8,
   "metadata": {},
   "outputs": [],
   "source": [
    "def createPostalDataFrame():\n",
    "    liste_postal_code = [] # this list will serve for creation the dataframe\n",
    "    for element in ligne:\n",
    "        to_string_element = str(element)\n",
    "        if '<td>' in to_string_element:\n",
    "            contenu = to_string_element.split('<td>')\n",
    "            if not 'Not assigned' in str(contenu[2])[:- 6]: # Ignore cells with a borough that is Not assigned\n",
    "                PostalCode = str(contenu[1])[:- 6]\n",
    "                if '<a' in str(contenu[2])[:- 6]:\n",
    "                    btfsoup_Borough = BeautifulSoup(str(contenu[2])[:- 6])\n",
    "                    Borough = btfsoup_Borough.find('a')['title']\n",
    "                else:\n",
    "                    Borough = str(contenu[2])[:- 6]\n",
    "                \n",
    "                if 'Not assigned' in str(contenu[3])[:- 10]: # If a cell has a borough but a Not assigned neighborhood, then the neighborhood will be the same as the borough\n",
    "                    Neighborhood = Borough\n",
    "                else:\n",
    "                    if '<a' in str(contenu[3])[:- 10]:\n",
    "                        btfsoup_Neighborhood = BeautifulSoup((contenu[3])[:- 10])\n",
    "                        Neighborhood = btfsoup_Neighborhood.find('a')['title']\n",
    "                    else:\n",
    "                        Neighborhood = str(contenu[3])[:-12]\n",
    "                    \n",
    "                liste_postal_code.append([PostalCode, Borough, Neighborhood])\n",
    "                \n",
    "    return liste_postal_code"
   ]
  },
  {
   "cell_type": "code",
   "execution_count": 7,
   "metadata": {},
   "outputs": [
    {
     "data": {
      "text/html": [
       "<div>\n",
       "<style scoped>\n",
       "    .dataframe tbody tr th:only-of-type {\n",
       "        vertical-align: middle;\n",
       "    }\n",
       "\n",
       "    .dataframe tbody tr th {\n",
       "        vertical-align: top;\n",
       "    }\n",
       "\n",
       "    .dataframe thead th {\n",
       "        text-align: right;\n",
       "    }\n",
       "</style>\n",
       "<table border=\"1\" class=\"dataframe\">\n",
       "  <thead>\n",
       "    <tr style=\"text-align: right;\">\n",
       "      <th></th>\n",
       "      <th>PostalCode</th>\n",
       "      <th>Borough</th>\n",
       "      <th>Neighborhood</th>\n",
       "    </tr>\n",
       "  </thead>\n",
       "  <tbody>\n",
       "    <tr>\n",
       "      <th>0</th>\n",
       "      <td>M3A</td>\n",
       "      <td>North York</td>\n",
       "      <td>Parkwoods</td>\n",
       "    </tr>\n",
       "    <tr>\n",
       "      <th>1</th>\n",
       "      <td>M4A</td>\n",
       "      <td>North York</td>\n",
       "      <td>Victoria Village</td>\n",
       "    </tr>\n",
       "    <tr>\n",
       "      <th>2</th>\n",
       "      <td>M5A</td>\n",
       "      <td>Downtown Toronto</td>\n",
       "      <td>Harbourfront (Toronto)</td>\n",
       "    </tr>\n",
       "    <tr>\n",
       "      <th>3</th>\n",
       "      <td>M5A</td>\n",
       "      <td>Downtown Toronto</td>\n",
       "      <td>Regent Park</td>\n",
       "    </tr>\n",
       "    <tr>\n",
       "      <th>4</th>\n",
       "      <td>M6A</td>\n",
       "      <td>North York</td>\n",
       "      <td>Lawrence Heights</td>\n",
       "    </tr>\n",
       "  </tbody>\n",
       "</table>\n",
       "</div>"
      ],
      "text/plain": [
       "  PostalCode           Borough            Neighborhood\n",
       "0        M3A        North York               Parkwoods\n",
       "1        M4A        North York        Victoria Village\n",
       "2        M5A  Downtown Toronto  Harbourfront (Toronto)\n",
       "3        M5A  Downtown Toronto             Regent Park\n",
       "4        M6A        North York        Lawrence Heights"
      ]
     },
     "execution_count": 7,
     "metadata": {},
     "output_type": "execute_result"
    }
   ],
   "source": [
    "dataPostal = pd.DataFrame(createPostalDataFrame(), columns=['PostalCode', 'Borough', 'Neighborhood'])\n",
    "dataPostal.head()"
   ]
  },
  {
   "cell_type": "markdown",
   "metadata": {},
   "source": [
    "### Group the table by PostalCode/Borough, Neighbourhood belonging to same borough will be combined in 'Neighbourhood' column as separated with 'comma'"
   ]
  },
  {
   "cell_type": "code",
   "execution_count": 9,
   "metadata": {},
   "outputs": [
    {
     "data": {
      "text/html": [
       "<div>\n",
       "<style scoped>\n",
       "    .dataframe tbody tr th:only-of-type {\n",
       "        vertical-align: middle;\n",
       "    }\n",
       "\n",
       "    .dataframe tbody tr th {\n",
       "        vertical-align: top;\n",
       "    }\n",
       "\n",
       "    .dataframe thead th {\n",
       "        text-align: right;\n",
       "    }\n",
       "</style>\n",
       "<table border=\"1\" class=\"dataframe\">\n",
       "  <thead>\n",
       "    <tr style=\"text-align: right;\">\n",
       "      <th></th>\n",
       "      <th>PostalCode</th>\n",
       "      <th>Borough</th>\n",
       "      <th>Neighborhood</th>\n",
       "    </tr>\n",
       "  </thead>\n",
       "  <tbody>\n",
       "    <tr>\n",
       "      <th>0</th>\n",
       "      <td>M1B</td>\n",
       "      <td>Scarborough, Toronto</td>\n",
       "      <td>Rouge, Toronto, Malvern, Toronto</td>\n",
       "    </tr>\n",
       "    <tr>\n",
       "      <th>1</th>\n",
       "      <td>M1C</td>\n",
       "      <td>Scarborough, Toronto</td>\n",
       "      <td>Highland Creek (Toronto), Rouge Hill, Port Uni...</td>\n",
       "    </tr>\n",
       "    <tr>\n",
       "      <th>2</th>\n",
       "      <td>M1E</td>\n",
       "      <td>Scarborough, Toronto</td>\n",
       "      <td>Guildwoo, Morningside, Toronto, West Hill, Tor...</td>\n",
       "    </tr>\n",
       "    <tr>\n",
       "      <th>3</th>\n",
       "      <td>M1G</td>\n",
       "      <td>Scarborough, Toronto</td>\n",
       "      <td>Woburn, Toronto</td>\n",
       "    </tr>\n",
       "    <tr>\n",
       "      <th>4</th>\n",
       "      <td>M1H</td>\n",
       "      <td>Scarborough, Toronto</td>\n",
       "      <td>Cedarbra</td>\n",
       "    </tr>\n",
       "  </tbody>\n",
       "</table>\n",
       "</div>"
      ],
      "text/plain": [
       "  PostalCode               Borough  \\\n",
       "0        M1B  Scarborough, Toronto   \n",
       "1        M1C  Scarborough, Toronto   \n",
       "2        M1E  Scarborough, Toronto   \n",
       "3        M1G  Scarborough, Toronto   \n",
       "4        M1H  Scarborough, Toronto   \n",
       "\n",
       "                                        Neighborhood  \n",
       "0                   Rouge, Toronto, Malvern, Toronto  \n",
       "1  Highland Creek (Toronto), Rouge Hill, Port Uni...  \n",
       "2  Guildwoo, Morningside, Toronto, West Hill, Tor...  \n",
       "3                                    Woburn, Toronto  \n",
       "4                                           Cedarbra  "
      ]
     },
     "execution_count": 9,
     "metadata": {},
     "output_type": "execute_result"
    }
   ],
   "source": [
    "dataPostalClean = dataPostal.groupby(['PostalCode','Borough'])['Neighborhood'].apply(', '.join).reset_index()\n",
    "dataPostalClean.head()"
   ]
  },
  {
   "cell_type": "code",
   "execution_count": 14,
   "metadata": {},
   "outputs": [],
   "source": [
    "dataPostalClean.to_csv('Toronto_Postal_data.csv', index=False)"
   ]
  },
  {
   "cell_type": "code",
   "execution_count": 15,
   "metadata": {},
   "outputs": [
    {
     "data": {
      "text/plain": [
       "(103, 3)"
      ]
     },
     "execution_count": 15,
     "metadata": {},
     "output_type": "execute_result"
    }
   ],
   "source": [
    "dataPostalClean.shape"
   ]
  },
  {
   "cell_type": "code",
   "execution_count": null,
   "metadata": {},
   "outputs": [],
   "source": []
  }
 ],
 "metadata": {
  "kernelspec": {
   "display_name": "Python 3",
   "language": "python",
   "name": "python3"
  },
  "language_info": {
   "codemirror_mode": {
    "name": "ipython",
    "version": 3
   },
   "file_extension": ".py",
   "mimetype": "text/x-python",
   "name": "python",
   "nbconvert_exporter": "python",
   "pygments_lexer": "ipython3",
   "version": "3.7.3"
  }
 },
 "nbformat": 4,
 "nbformat_minor": 2
}
